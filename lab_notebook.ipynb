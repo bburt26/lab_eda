{
  "cells": [
    {
      "cell_type": "markdown",
      "metadata": {
        "id": "hxH7g2WXCIfk"
      },
      "source": [
        "## EDA LAB\n",
        "\n",
        "The General Social Survey (GSS) is a bi-annual nationally representative survey of Americans, with almost 7000 different questions asked since the survey began in the 1970s. It has straightforward questions about respondents' demographic information, but also questions like \"Does your job regularly require you to perform repetitive or forceful hand movements or involve awkward postures?\" or \"How often do the demands of your job interfere with your family life?\" There are a variety of controversial questions. No matter what you're curious about, there's something interesting in here to check out. The codebook is 904 pages (use CTRL+F to search it).\n",
        "\n",
        "The data and codebook are available at:\n",
        "https://gss.norc.org/us/en/gss/get-the-data.html\n",
        "\n",
        "The datasets are so large that it might make sense to pick the variables you want, and then download just those variables from:\n",
        "https://gssdataexplorer.norc.org/variables/vfilter\n",
        "\n",
        "Here is your task:\n",
        "1. Download a small (5-15) set of variables of interest. (You can also check out `get_gss.ipynb` for some processed data.)\n",
        "2. Write a short description of the data you chose, and why. (~500 words)\n",
        "3. Load the data using Pandas. Clean them up for EDA. Do this in this notebook with comments or markdown chunks explaining your choices.\n",
        "4. Produce some numeric summaries and visualizations.\n",
        "5. Describe your findings. (500 - 1000 words, or more)\n",
        "\n",
        "For example, you might want to look at how aspects of a person's childhood family are correlated or not with their career or family choices as an adult. Or how political or religious affiliations correlate with drug use or sexual practices. It's an extremely wide-ranging survey.\n"
      ]
    },
    {
      "cell_type": "markdown",
      "source": [
        "Group P: Bacheler Burt, Lily Rademacher, Mia Cachion\n",
        "\n",
        "We acknowledge that we have used AI to the extent permitted by the UVA AI acceptable use policy. This has been mutually agreed upon. We acknowlegde that we are aware of the possibility of AI producing errors and offensive content and certify that we have taken the necessary measures to ensure that the work produced is both accurate and ethical to the best of our ability."
      ],
      "metadata": {
        "id": "Ij_EIHBvuSeO"
      }
    },
    {
      "cell_type": "code",
      "source": [
        "import pandas as pd\n",
        "import numpy as np\n",
        "import seaborn as sns\n",
        "import matplotlib as plt"
      ],
      "metadata": {
        "id": "cO199yGas9Ox"
      },
      "execution_count": 1,
      "outputs": []
    },
    {
      "cell_type": "markdown",
      "source": [
        "Our lab is centered around media consumption and political views. There is significant interplay between the two spheres, stemming from the fact that different media forms and companies have specific slants with respect to political ideology. Media consumption has the power to influence and intensify political views. This dynamic is exemplified by political talk show hosts like Bill Maher and Tucker Carlson, who aim to garner viewership and convince viewers of their political position. Increasingly, politics are grossly intertwined with media presence—political media personalities operate as pseuod-influencers and pseudo-politicians. We hope to analyze political views as a function of media engagement across a few different sectors of the media, as well as incorporate demographic controls such as sex, age, level of education, and region.\n",
        "\n",
        "The full list of our variable set is as follows:\n",
        "\n",
        "TVHOURS: Hours per day spent watching television\n",
        "NEWS: Frequency of reading the newspaper\n",
        "NEWSFROM: Main source of information about events in the news\n",
        "PARTYID: Political party identification\n",
        "POLVIEWS: Political ideology (liberal/conservative scale)\n",
        "WHOVOTE24: Voting intention in 2024 election (Pre-July 2024)\n",
        "AGE: Age of respondent\n",
        "SEX: Sex of respondent\n",
        "EDUC: Highest year of school completed\n",
        "REGION: Region of interview\n",
        "RACE: Race of respondent (White/Black/Other; available for all years, simple to use)\n",
        "INCOME: Family income (categorical)\n",
        "REALINC: Family income (continuous in dollars)\n",
        "In selecting our data, we aimed to capture the multifaceted relationship between media consumption and political attitudes in the United States. The contemporary media landscape is marked by a proliferation of both traditional and digital platforms, each with distinct influences on how individuals encounter and process political information. It's our anecdotal understanding that people often gravitate toward media sources that reinforce their existing beliefs, which can contribute to political polarization. People seek out echo chambers that validate their pre-existing opinions. Digital media, especially social platforms, has the power to expose viewers to a wider array of viewpoints, but it also has the power to isolate people from opposing perspectives by only pushing content to them that they already support.\n",
        "\n",
        "Our variable set was chosen to reflect these dynamics. By including measures of television, newspaper, and internet use, we can compare the effects of different media types on political attitudes and behaviors. Political variables such as party identification, ideology, and voting behavior allow us to examine not just opinions, but also engagement. Demographic controls (age, sex, education, region, race, and income) are essential for understanding how media and politics intersect across diverse social groups.\n",
        "\n",
        "We hope to explore questions like: Do certain media habits predict stronger partisan behavior? Are there demographic divides in media use that map onto political ones? How does trust in government relate to both media consumption and socioeconomic status?\n",
        "\n",
        "The extracted data is stored under \"gss_media_pol.csv\" in this Github repo."
      ],
      "metadata": {
        "id": "W-wVLuMutY1c"
      }
    },
    {
      "cell_type": "code",
      "source": [
        "#2\n",
        "media = pd.read_csv(\"gss_media_pol.csv\")\n",
        "print(media.head(10))"
      ],
      "metadata": {
        "colab": {
          "base_uri": "https://localhost:8080/"
        },
        "id": "roMJHqQgsegz",
        "outputId": "155eaee1-ba72-4f20-fb60-bd45772904fe"
      },
      "execution_count": 3,
      "outputs": [
        {
          "output_type": "stream",
          "name": "stdout",
          "text": [
            "   year  id_ age                educ     sex   race             income  \\\n",
            "0  1972    1  23  4 years of college  FEMALE  White  .i:  Inapplicable   \n",
            "1  1972    2  70          10th grade    MALE  White  .i:  Inapplicable   \n",
            "2  1972    3  48          12th grade  FEMALE  White  .i:  Inapplicable   \n",
            "3  1972    4  27  5 years of college  FEMALE  White  .i:  Inapplicable   \n",
            "4  1972    5  61          12th grade  FEMALE  White  .i:  Inapplicable   \n",
            "5  1972    6  26  2 years of college    MALE  White  .i:  Inapplicable   \n",
            "6  1972    7  28   1 year of college    MALE  White  .i:  Inapplicable   \n",
            "7  1972    8  27  4 years of college    MALE  White  .i:  Inapplicable   \n",
            "8  1972    9  21          12th grade  FEMALE  Black  .i:  Inapplicable   \n",
            "9  1972   10  30          12th grade  FEMALE  Black  .i:  Inapplicable   \n",
            "\n",
            "               region                             partyid           polviews  \\\n",
            "0  East North Central      Independent, close to democrat  .i:  Inapplicable   \n",
            "1  East North Central            Not very strong democrat  .i:  Inapplicable   \n",
            "2  East North Central  Independent (neither, no response)  .i:  Inapplicable   \n",
            "3  East North Central            Not very strong democrat  .i:  Inapplicable   \n",
            "4  East North Central                     Strong democrat  .i:  Inapplicable   \n",
            "5  East North Central      Independent, close to democrat  .i:  Inapplicable   \n",
            "6  East North Central      Independent, close to democrat  .i:  Inapplicable   \n",
            "7  East North Central      Independent, close to democrat  .i:  Inapplicable   \n",
            "8  West South Central                     Strong democrat  .i:  Inapplicable   \n",
            "9  West South Central                     Strong democrat  .i:  Inapplicable   \n",
            "\n",
            "                    news            tvhours           newsfrom  realinc  \\\n",
            "0              Every day  .i:  Inapplicable  .i:  Inapplicable  18951.0   \n",
            "1              Every day  .i:  Inapplicable  .i:  Inapplicable  24366.0   \n",
            "2              Every day  .i:  Inapplicable  .i:  Inapplicable  24366.0   \n",
            "3            Once a week  .i:  Inapplicable  .i:  Inapplicable  30458.0   \n",
            "4              Every day  .i:  Inapplicable  .i:  Inapplicable  50763.0   \n",
            "5              Every day  .i:  Inapplicable  .i:  Inapplicable  43994.0   \n",
            "6              Every day  .i:  Inapplicable  .i:  Inapplicable  37226.0   \n",
            "7              Every day  .i:  Inapplicable  .i:  Inapplicable  13537.0   \n",
            "8  Less than once a week  .i:  Inapplicable  .i:  Inapplicable   2707.0   \n",
            "9              Every day  .i:  Inapplicable  .i:  Inapplicable  18951.0   \n",
            "\n",
            "                         WHOVOTE24  \n",
            "0  .y:  Not available in this year  \n",
            "1  .y:  Not available in this year  \n",
            "2  .y:  Not available in this year  \n",
            "3  .y:  Not available in this year  \n",
            "4  .y:  Not available in this year  \n",
            "5  .y:  Not available in this year  \n",
            "6  .y:  Not available in this year  \n",
            "7  .y:  Not available in this year  \n",
            "8  .y:  Not available in this year  \n",
            "9  .y:  Not available in this year  \n"
          ]
        }
      ]
    },
    {
      "cell_type": "code",
      "source": [
        "#3"
      ],
      "metadata": {
        "id": "cvd7WPgFsfbI"
      },
      "execution_count": null,
      "outputs": []
    },
    {
      "cell_type": "code",
      "source": [
        "#4"
      ],
      "metadata": {
        "id": "ahktzwpcsgLk"
      },
      "execution_count": null,
      "outputs": []
    },
    {
      "cell_type": "code",
      "source": [
        "#5"
      ],
      "metadata": {
        "id": "uMFBxX1vsgsY"
      },
      "execution_count": null,
      "outputs": []
    }
  ],
  "metadata": {
    "kernelspec": {
      "display_name": "Python 3 (ipykernel)",
      "language": "python",
      "name": "python3"
    },
    "language_info": {
      "codemirror_mode": {
        "name": "ipython",
        "version": 3
      },
      "file_extension": ".py",
      "mimetype": "text/x-python",
      "name": "python",
      "nbconvert_exporter": "python",
      "pygments_lexer": "ipython3",
      "version": "3.10.18"
    },
    "colab": {
      "provenance": []
    }
  },
  "nbformat": 4,
  "nbformat_minor": 0
}